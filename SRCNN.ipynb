{
  "cells": [
    {
      "cell_type": "code",
      "execution_count": null,
      "metadata": {
        "id": "dwaVAmW2ammn"
      },
      "outputs": [],
      "source": [
        "# Check package versions\n",
        "import sys\n",
        "import keras\n",
        "import cv2\n",
        "import numpy\n",
        "import matplotlib\n",
        "import skimage"
      ]
    },
    {
      "cell_type": "code",
      "execution_count": null,
      "metadata": {
        "id": "_oLs6v7eaneb"
      },
      "outputs": [],
      "source": [
        "import sys\n",
        "import keras\n",
        "import cv2\n",
        "import numpy as np\n",
        "import math\n",
        "import os\n",
        "from keras.models import Sequential\n",
        "from keras.layers import Conv2D\n",
        "from keras.optimizers import Adam\n",
        "from skimage.metrics import structural_similarity\n",
        "import matplotlib.pyplot as plt"
      ]
    },
    {
      "cell_type": "code",
      "execution_count": null,
      "metadata": {
        "id": "zz_UVbT7aprA"
      },
      "outputs": [],
      "source": [
        "# Image Quality Metrics\n",
        "def psnr(target, ref):\n",
        "    # assume RGB image\n",
        "    target_data = target.astype(float)\n",
        "    ref_data = ref.astype(float)\n",
        "\n",
        "    diff = ref_data - target_data\n",
        "    diff = diff.flatten('C')\n",
        "\n",
        "    rmse = math.sqrt(np.mean(diff ** 2.))\n",
        "\n",
        "    return 20 * math.log10(255. / rmse)"
      ]
    },
    {
      "cell_type": "code",
      "execution_count": null,
      "metadata": {
        "id": "FODMXrQhbqo0"
      },
      "outputs": [],
      "source": [
        "def mse(target, ref):\n",
        "    # the MSE between the two images is the sum of the squared difference between the two images\n",
        "    err = np.sum((target.astype('float') - ref.astype('float')) ** 2)\n",
        "    err /= float(target.shape[0] * target.shape[1])\n",
        "\n",
        "    return err"
      ]
    },
    {
      "cell_type": "code",
      "execution_count": null,
      "metadata": {
        "id": "GPgprw--bruT"
      },
      "outputs": [],
      "source": [
        "def compare_images(target, ref):\n",
        "    scores = []\n",
        "    scores.append(psnr(target, ref))\n",
        "    scores.append(mse(target, ref))\n",
        "    scores.append(ssim(target, ref, channel_axis=2))\n",
        "\n",
        "    return scores"
      ]
    },
    {
      "cell_type": "code",
      "source": [
        "!unzip source.zip\n",
        "%ls"
      ],
      "metadata": {
        "colab": {
          "base_uri": "https://localhost:8080/"
        },
        "id": "sGVtw_i08YW-",
        "outputId": "6e33e467-2feb-41fe-f799-36adf7c1e262"
      },
      "execution_count": null,
      "outputs": [
        {
          "output_type": "stream",
          "name": "stdout",
          "text": [
            "Archive:  source.zip\n",
            "  inflating: source/baboon.bmp       \n",
            "  inflating: source/baby_GT.bmp      \n",
            "  inflating: source/barbara.bmp      \n",
            "  inflating: source/bird_GT.bmp      \n",
            "  inflating: source/bridge.bmp       \n",
            "  inflating: source/butterfly_GT.bmp  \n",
            "  inflating: source/coastguard.bmp   \n",
            "  inflating: source/comic.bmp        \n",
            "  inflating: source/face.bmp         \n",
            "  inflating: source/flowers.bmp      \n",
            "  inflating: source/foreman.bmp      \n",
            "  inflating: source/head_GT.bmp      \n",
            "  inflating: source/lenna.bmp        \n",
            "  inflating: source/man.bmp          \n",
            "  inflating: source/monarch.bmp      \n",
            "  inflating: source/pepper.bmp       \n",
            "  inflating: source/ppt3.bmp         \n",
            "  inflating: source/woman_GT.bmp     \n",
            "  inflating: source/zebra.bmp        \n",
            "\u001b[0m\u001b[01;34msample_data\u001b[0m/  \u001b[01;34msource\u001b[0m/  source.zip\n"
          ]
        }
      ]
    },
    {
      "cell_type": "code",
      "execution_count": null,
      "metadata": {
        "id": "fHR4obTxcxQy",
        "colab": {
          "base_uri": "https://localhost:8080/"
        },
        "outputId": "ad60505a-db5c-4585-8621-01fd40aceb25"
      },
      "outputs": [
        {
          "output_type": "stream",
          "name": "stdout",
          "text": [
            "Saving face.bmp\n",
            "Saving foreman.bmp\n",
            "Saving head_GT.bmp\n",
            "Saving man.bmp\n",
            "Saving flowers.bmp\n",
            "Saving bridge.bmp\n",
            "Saving butterfly_GT.bmp\n",
            "Saving zebra.bmp\n",
            "Saving barbara.bmp\n",
            "Saving pepper.bmp\n",
            "Saving baby_GT.bmp\n",
            "Saving lenna.bmp\n",
            "Saving coastguard.bmp\n",
            "Saving ppt3.bmp\n",
            "Saving woman_GT.bmp\n",
            "Saving baboon.bmp\n",
            "Saving bird_GT.bmp\n",
            "Saving comic.bmp\n",
            "Saving monarch.bmp\n"
          ]
        }
      ],
      "source": [
        "import os\n",
        "import cv2\n",
        "from skimage.metrics import structural_similarity as ssim\n",
        "\n",
        "def prepare_images(path, factor):\n",
        "    # Create the output directory if it does not exist\n",
        "    output_dir = 'images/'\n",
        "    if not os.path.exists(output_dir):\n",
        "        os.makedirs(output_dir)\n",
        "\n",
        "    for file in os.listdir(path):\n",
        "        # open the file\n",
        "        img = cv2.imread(path + '/' + file)\n",
        "        # find old and new image dimensions\n",
        "        h, w, _ = img.shape\n",
        "        new_height = h // factor\n",
        "        new_width = w // factor\n",
        "\n",
        "        # resize the image - down\n",
        "        img = cv2.resize(img, (new_width, new_height), interpolation=cv2.INTER_LINEAR)\n",
        "\n",
        "        # resize the image - up\n",
        "        img = cv2.resize(img, (w, h), interpolation=cv2.INTER_LINEAR)\n",
        "\n",
        "        # save the image\n",
        "        print('Saving {}'.format(file))\n",
        "        cv2.imwrite(output_dir + file, img)\n",
        "prepare_images('source/', 2)"
      ]
    },
    {
      "cell_type": "code",
      "execution_count": null,
      "metadata": {
        "id": "v1eQzZ7hczeM",
        "colab": {
          "base_uri": "https://localhost:8080/"
        },
        "outputId": "e8b6e264-56c5-4b77-ec71-29abc76f6f85"
      },
      "outputs": [
        {
          "output_type": "stream",
          "name": "stdout",
          "text": [
            "face.bmp\n",
            "PSNR: 30.99220650287191\n",
            "MSE: 155.23189718546524\n",
            "SSIM: 0.8008439492289884\n",
            "\n",
            "foreman.bmp\n",
            "PSNR: 30.14456532664372\n",
            "MSE: 188.6883483270202\n",
            "SSIM: 0.933268417388899\n",
            "\n",
            "head_GT.bmp\n",
            "PSNR: 31.020502848237534\n",
            "MSE: 154.2237755102041\n",
            "SSIM: 0.8011121330733371\n",
            "\n",
            "man.bmp\n",
            "PSNR: 27.22646369798821\n",
            "MSE: 369.4496383666992\n",
            "SSIM: 0.8214950645456561\n",
            "\n",
            "flowers.bmp\n",
            "PSNR: 27.454504805386144\n",
            "MSE: 350.55093922651935\n",
            "SSIM: 0.8697286286974628\n",
            "\n",
            "bridge.bmp\n",
            "PSNR: 25.850528790115554\n",
            "MSE: 507.1643714904785\n",
            "SSIM: 0.7804245912255268\n",
            "\n",
            "butterfly_GT.bmp\n",
            "PSNR: 24.782076560337416\n",
            "MSE: 648.6254119873047\n",
            "SSIM: 0.8791344763843051\n",
            "\n",
            "zebra.bmp\n",
            "PSNR: 27.909840639329513\n",
            "MSE: 315.6585459528818\n",
            "SSIM: 0.8911656209329116\n",
            "\n",
            "barbara.bmp\n",
            "PSNR: 25.906629837568126\n",
            "MSE: 500.65508535879627\n",
            "SSIM: 0.8098632646406401\n",
            "\n",
            "pepper.bmp\n",
            "PSNR: 29.88947161686106\n",
            "MSE: 200.1033935546875\n",
            "SSIM: 0.8357937568464359\n",
            "\n",
            "baby_GT.bmp\n",
            "PSNR: 34.371806409661986\n",
            "MSE: 71.28874588012695\n",
            "SSIM: 0.9356987872724932\n",
            "\n",
            "lenna.bmp\n",
            "PSNR: 31.47349297867539\n",
            "MSE: 138.94800567626953\n",
            "SSIM: 0.8460989200521499\n",
            "\n",
            "coastguard.bmp\n",
            "PSNR: 27.161600663887082\n",
            "MSE: 375.00887784090907\n",
            "SSIM: 0.756950063354931\n",
            "\n",
            "ppt3.bmp\n",
            "PSNR: 24.84926168950471\n",
            "MSE: 638.6684263912582\n",
            "SSIM: 0.9284023942315316\n",
            "\n",
            "woman_GT.bmp\n",
            "PSNR: 29.326236280817465\n",
            "MSE: 227.812729498164\n",
            "SSIM: 0.9335397280466592\n",
            "\n",
            "baboon.bmp\n",
            "PSNR: 22.157084083442548\n",
            "MSE: 1187.1161333333334\n",
            "SSIM: 0.629277587900277\n",
            "\n",
            "bird_GT.bmp\n",
            "PSNR: 32.896644728720005\n",
            "MSE: 100.12375819830247\n",
            "SSIM: 0.9533644866026473\n",
            "\n",
            "comic.bmp\n",
            "PSNR: 23.799861502225532\n",
            "MSE: 813.2338836565096\n",
            "SSIM: 0.8347335416398209\n",
            "\n",
            "monarch.bmp\n",
            "PSNR: 30.196242365288896\n",
            "MSE: 186.45643615722656\n",
            "SSIM: 0.9439574293434104\n",
            "\n"
          ]
        }
      ],
      "source": [
        "# Testing Low-Resolution Images\n",
        "for file in os.listdir('images/'):\n",
        "    target = cv2.imread('images/{}'.format(file))\n",
        "    ref = cv2.imread('source/{}'.format(file))\n",
        "\n",
        "    scores = compare_images(target, ref)\n",
        "\n",
        "    print('{}\\nPSNR: {}\\nMSE: {}\\nSSIM: {}\\n'.format(file, scores[0], scores[1], scores[2]))"
      ]
    },
    {
      "cell_type": "code",
      "execution_count": null,
      "metadata": {
        "id": "-HC-RBe8dJCV"
      },
      "outputs": [],
      "source": [
        "# Building the SRCNN Model\n",
        "def model():\n",
        "    SRCNN = Sequential()\n",
        "\n",
        "    SRCNN.add(Conv2D(filters=128, kernel_size=(9, 9), kernel_initializer='glorot_uniform',\n",
        "                     activation='relu', padding='valid', use_bias=True, input_shape=(None, None, 1)))\n",
        "    SRCNN.add(Conv2D(filters=64, kernel_size=(3, 3), kernel_initializer='glorot_uniform',\n",
        "                     activation='relu', padding='same', use_bias=True))\n",
        "    SRCNN.add(Conv2D(filters=1, kernel_size=(5, 5), kernel_initializer='glorot_uniform',\n",
        "                     activation='linear', padding='valid', use_bias=True))\n",
        "\n",
        "    adam = Adam(learning_rate=0.0003)\n",
        "\n",
        "    SRCNN.compile(optimizer=adam, loss='mean_squared_error', metrics=['mean_squared_error'])\n",
        "\n",
        "    return SRCNN"
      ]
    },
    {
      "cell_type": "code",
      "execution_count": null,
      "metadata": {
        "id": "QuSqB-JWdl52",
        "colab": {
          "base_uri": "https://localhost:8080/",
          "height": 1000
        },
        "outputId": "2d1acf68-b850-472c-894f-912854432714"
      },
      "outputs": [],
      "source": [
        "# Deploying the SRCNN\n",
        "def modcrop(img, scale):\n",
        "    tmpsz = img.shape\n",
        "    sz = tmpsz[0:2]\n",
        "    sz = sz - np.mod(sz, scale)\n",
        "    img = img[0:sz[0], 0:sz[1]]\n",
        "    return img\n",
        "\n",
        "def shave(image, border):\n",
        "    img = image[border:-border, border:-border]\n",
        "    return img\n",
        "\n",
        "def predict(image_path):\n",
        "    srcnn = model()\n",
        "    srcnn.load_weights('3051crop_weight_200.h5')\n",
        "\n",
        "    path, file = os.path.split(image_path)\n",
        "    degraded = cv2.imread(image_path)\n",
        "    ref = cv2.imread('source/{}'.format(file))\n",
        "\n",
        "    ref = modcrop(ref, 3)\n",
        "    degraded = modcrop(degraded, 3)\n",
        "\n",
        "    temp = cv2.cvtColor(degraded, cv2.COLOR_BGR2YCrCb)\n",
        "\n",
        "    Y = np.zeros((1, temp.shape[0], temp.shape[1], 1), dtype=float)\n",
        "    Y[0, :, :, 0] = temp[:, :, 0].astype(float) / 255\n",
        "\n",
        "    pre = srcnn.predict(Y, batch_size=1)\n",
        "\n",
        "    pre *= 255\n",
        "    pre[pre[:] > 255] = 255\n",
        "    pre[pre[:] < 0] = 0\n",
        "    pre = pre.astype(np.uint8)\n",
        "\n",
        "    temp = shave(temp, 6)\n",
        "    temp[:, :, 0] = pre[0, :, :, 0]\n",
        "    output = cv2.cvtColor(temp, cv2.COLOR_YCrCb2BGR)\n",
        "\n",
        "    ref = shave(ref.astype(np.uint8), 6)\n",
        "    degraded = shave(degraded.astype(np.uint8), 6)\n",
        "\n",
        "    scores = []\n",
        "    scores.append(compare_images(degraded, ref))\n",
        "    scores.append(compare_images(output, ref))\n",
        "\n",
        "    return ref, degraded, output, scores\n",
        "# Ensure the output directory exists\n",
        "if not os.path.exists('output'):\n",
        "    os.makedirs('output')\n",
        "\n",
        "ref, degraded, output, scores = predict('images/foreman.bmp')\n",
        "\n",
        "print('Degraded Image:\\nPSNR: {}\\nMSE: {}\\nSSIM: {}\\n'.format(scores[0][0], scores[0][1], scores[0][2]))\n",
        "print('Reconstructed Image:\\nPSNR: {}\\nMSE: {}\\nSSIM: {}\\n'.format(scores[1][0], scores[1][1], scores[1][2]))\n",
        "\n",
        "fig, axs = plt.subplots(1, 3, figsize=(20, 8))\n",
        "axs[0].imshow(cv2.cvtColor(ref, cv2.COLOR_BGR2RGB))\n",
        "axs[0].set_title('Original')\n",
        "axs[1].imshow(cv2.cvtColor(degraded, cv2.COLOR_BGR2RGB))\n",
        "axs[1].set_title('Degraded')\n",
        "axs[2].imshow(cv2.cvtColor(output, cv2.COLOR_BGR2RGB))\n",
        "axs[2].set_title('SRCNN')\n",
        "\n",
        "for ax in axs:\n",
        "    ax.set_xticks([])\n",
        "    ax.set_yticks([])\n",
        "\n",
        "for file in os.listdir('images'):\n",
        "    ref, degraded, output, scores = predict('images/{}'.format(file))\n",
        "\n",
        "    fig, axs = plt.subplots(1, 3, figsize=(20, 8))\n",
        "    axs[0].imshow(cv2.cvtColor(ref, cv2.COLOR_BGR2RGB))\n",
        "    axs[0].set_title('Original')\n",
        "    axs[1].imshow(cv2.cvtColor(degraded, cv2.COLOR_BGR2RGB))\n",
        "    axs[1].set_title('Degraded')\n",
        "    axs[1].set(xlabel='PSNR: {}\\nMSE: {}\\nSSIM: {}'.format(scores[0][0], scores[0][1], scores[0][2]))\n",
        "    axs[2].imshow(cv2.cvtColor(output, cv2.COLOR_BGR2RGB))\n",
        "    axs[2].set_title('SRCNN')\n",
        "    axs[2].set(xlabel='PSNR: {}\\nMSE: {}\\nSSIM: {}'.format(scores[1][0], scores[1][1], scores[1][2]))\n",
        "\n",
        "    for ax in axs:\n",
        "        ax.set_xticks([])\n",
        "        ax.set_yticks([])\n",
        "\n",
        "    print('Saving {}'.format(file))\n",
        "    fig.savefig('output/{}.png'.format(os.path.splitext(file)[0]))\n",
        "plt.close()"
      ]
    }
  ],
  "metadata": {
    "colab": {
      "provenance": []
    },
    "kernelspec": {
      "display_name": "Python 3",
      "name": "python3"
    },
    "language_info": {
      "name": "python"
    }
  },
  "nbformat": 4,
  "nbformat_minor": 0
}